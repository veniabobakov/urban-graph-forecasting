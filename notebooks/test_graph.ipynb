{
 "cells": [
  {
   "metadata": {},
   "cell_type": "code",
   "source": [
    "import geopandas as gpd\n",
    "import networkx as nx\n",
    "from shapely.geometry import Point, LineString\n",
    "import matplotlib.pyplot as plt\n",
    "import folium"
   ],
   "id": "82c6ad6ee49d7de3",
   "outputs": [],
   "execution_count": null
  },
  {
   "cell_type": "code",
   "id": "initial_id",
   "metadata": {
    "collapsed": true
   },
   "source": [
    "# 1. Загрузка данных\n",
    "stops = gpd.read_file(\"/Users/user/PycharmProjects/urban-graph-forecasting/data/train_dataset_codd_train/Векторные данные/Остановки_ОТ.shp\")  # файл с остановками\n",
    "roads = gpd.read_file(\"/Users/user/PycharmProjects/urban-graph-forecasting/data/train_dataset_codd_train/Векторные данные/Streets_исходные.shp\")  # файл с дорогами"
   ],
   "outputs": [],
   "execution_count": null
  },
  {
   "metadata": {},
   "cell_type": "code",
   "source": "stops ",
   "id": "ba4f4b2af299306e",
   "outputs": [],
   "execution_count": null
  },
  {
   "metadata": {},
   "cell_type": "code",
   "source": "roads",
   "id": "69cfac0b102befc8",
   "outputs": [],
   "execution_count": null
  },
  {
   "metadata": {},
   "cell_type": "code",
   "source": [
    "# Преобразуем данные в проекцию, которая использует метры (например, EPSG:32633)\n",
    "stops = stops.to_crs(epsg=32633)\n",
    "roads = roads.to_crs(epsg=32633)\n",
    "\n",
    "# Фильтрация дорог, где колонка 'Foot' равна 1 (пешеходные дороги)\n",
    "roads_filtered = roads[roads['Foot'] == 1]\n",
    "\n",
    "# Преобразуем обратно в EPSG:4326 для отображения на карте\n",
    "roads_filtered = roads_filtered.to_crs(epsg=4326)\n",
    "stops = stops.to_crs(epsg=4326)\n",
    "\n",
    "# Создание карты на основе координат первой остановки\n",
    "m = folium.Map(location=[stops.geometry.y.mean(), stops.geometry.x.mean()], zoom_start=12)\n",
    "\n",
    "# Добавление пешеходных дорог на карту\n",
    "for _, road in roads_filtered.iterrows():\n",
    "    # Для каждой дороги добавляем линию\n",
    "    folium.PolyLine(\n",
    "        locations=[(point[1], point[0]) for point in road.geometry.coords], \n",
    "        color='blue', weight=2.5, opacity=1\n",
    "    ).add_to(m)\n",
    "\n",
    "# Добавление остановок на карту\n",
    "for _, stop in stops.iterrows():\n",
    "    folium.Marker([stop.geometry.y, stop.geometry.x], popup=f\"Stop ID: {stop['TrStopId']}\").add_to(m)\n",
    "\n",
    "# Сохранить карту в файл\n",
    "m.save('map_with_roads_and_stops.html')\n",
    "\n",
    "# Печать завершения\n",
    "print(\"Карта сохранена в 'map_with_roads_and_stops.html'.\")"
   ],
   "id": "da8a9f7080d3300f",
   "outputs": [],
   "execution_count": null
  },
  {
   "metadata": {},
   "cell_type": "code",
   "source": "m",
   "id": "71c24b37938921f2",
   "outputs": [],
   "execution_count": null
  },
  {
   "metadata": {},
   "cell_type": "code",
   "source": [
    "import momepy\n",
    "from momepy.datasets import get_path\n",
    "import geopandas as gpd\n",
    "import networkx as nx\n",
    "\n",
    "G = momepy.gdf_to_nx(roads_filtered, multigraph=False)\n",
    "\n"
   ],
   "id": "7e1c2832d25a13e",
   "outputs": [],
   "execution_count": null
  },
  {
   "metadata": {},
   "cell_type": "code",
   "source": "nx.number_connected_components(G)",
   "id": "20a695e367ebd18a",
   "outputs": [],
   "execution_count": null
  },
  {
   "metadata": {},
   "cell_type": "code",
   "source": [
    "component_sizes = [len(component) for component in nx.connected_components(G)]\n",
    "\n",
    "print(\"Количество вершин в каждой связной компоненте:\", component_sizes)"
   ],
   "id": "fbd7a16884dc9755",
   "outputs": [],
   "execution_count": null
  },
  {
   "metadata": {},
   "cell_type": "code",
   "source": [
    "# Находим все связные компоненты\n",
    "components = list(nx.connected_components(G))\n",
    "\n",
    "# Находим самую крупную компоненту\n",
    "largest_component = max(components, key=len)\n",
    "\n",
    "# Создаем новый граф, содержащий только вершины и рёбра самой крупной компоненты\n",
    "G_largest = G.subgraph(largest_component).copy()"
   ],
   "id": "fc9875db04a3fee7",
   "outputs": [],
   "execution_count": null
  },
  {
   "metadata": {},
   "cell_type": "code",
   "source": "",
   "id": "fffc508adb27e943",
   "outputs": [],
   "execution_count": null
  }
 ],
 "metadata": {
  "kernelspec": {
   "display_name": "Python 3",
   "language": "python",
   "name": "python3"
  },
  "language_info": {
   "codemirror_mode": {
    "name": "ipython",
    "version": 2
   },
   "file_extension": ".py",
   "mimetype": "text/x-python",
   "name": "python",
   "nbconvert_exporter": "python",
   "pygments_lexer": "ipython2",
   "version": "2.7.6"
  }
 },
 "nbformat": 4,
 "nbformat_minor": 5
}
