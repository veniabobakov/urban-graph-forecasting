{
 "cells": [
  {
   "metadata": {
    "ExecuteTime": {
     "end_time": "2024-11-09T07:07:27.559143Z",
     "start_time": "2024-11-09T07:07:25.819644Z"
    }
   },
   "cell_type": "code",
   "source": [
    "import geopandas as gpd\n",
    "import networkx as nx\n",
    "from shapely.geometry import Point, LineString\n",
    "import matplotlib.pyplot as plt\n",
    "import folium\n",
    "import numpy as np\n",
    "from tqdm.notebook import tqdm\n",
    "from utils.graph_creation import create_road_graph, add_nodes_to_graph\n",
    "import pickle"
   ],
   "id": "82c6ad6ee49d7de3",
   "outputs": [],
   "execution_count": 1
  },
  {
   "metadata": {
    "ExecuteTime": {
     "end_time": "2024-11-09T06:27:24.086974Z",
     "start_time": "2024-11-09T06:27:23.843628Z"
    }
   },
   "cell_type": "code",
   "source": [
    "with open(\"graph.pkl\", \"rb\") as f:\n",
    "    Graph = pickle.load(f)"
   ],
   "id": "b7df704ec02db062",
   "outputs": [],
   "execution_count": 4
  },
  {
   "metadata": {
    "ExecuteTime": {
     "end_time": "2024-11-09T07:07:32.616032Z",
     "start_time": "2024-11-09T07:07:30.097217Z"
    }
   },
   "cell_type": "code",
   "source": "Graph = create_road_graph('/Users/user/PycharmProjects/urban-graph-forecasting/data/Streets_исходные.shp')",
   "id": "b05c66e207efb75c",
   "outputs": [
    {
     "name": "stderr",
     "output_type": "stream",
     "text": [
      "/Users/user/numericalMethods/.venv/urban-graph-forecasting/lib/python3.11/site-packages/momepy/utils.py:352: UserWarning: Geometry is in a geographic CRS. Results from 'length' are likely incorrect. Use 'GeoSeries.to_crs()' to re-project geometries to a projected CRS before this operation.\n",
      "\n",
      "  gdf_network[length] = gdf_network.geometry.length\n"
     ]
    }
   ],
   "execution_count": 2
  },
  {
   "metadata": {
    "ExecuteTime": {
     "end_time": "2024-11-09T07:07:05.098238Z",
     "start_time": "2024-11-09T07:05:23.333933Z"
    }
   },
   "cell_type": "code",
   "source": [
    "Graph = add_nodes_to_graph(G=Graph,\n",
    "                   path='/Users/user/PycharmProjects/urban-graph-forecasting/data/Остановки_ОТ.shp',\n",
    "                   threshold=100,\n",
    "                   id='TrStopId', geometry='geometry', name='Name', type='stop')"
   ],
   "id": "65a2f85a08e064dc",
   "outputs": [],
   "execution_count": 3
  },
  {
   "metadata": {
    "ExecuteTime": {
     "end_time": "2024-11-09T06:06:26.496104Z",
     "start_time": "2024-11-09T06:05:45.791938Z"
    }
   },
   "cell_type": "code",
   "source": [
    "Graph = add_nodes_to_graph(G=Graph,\n",
    "                   path='/Users/user/PycharmProjects/urban-graph-forecasting/data/Выходы_метро.shp',\n",
    "                   threshold=100,\n",
    "                   id='Number', geometry='geometry', name='Text', type='metro')"
   ],
   "id": "d82d1c9e20214b70",
   "outputs": [
    {
     "name": "stdout",
     "output_type": "stream",
     "text": [
      "0\n",
      "1\n",
      "2\n",
      "3\n",
      "4\n",
      "5\n",
      "6\n"
     ]
    }
   ],
   "execution_count": 5
  },
  {
   "metadata": {
    "ExecuteTime": {
     "start_time": "2024-11-09T07:07:36.365893Z"
    }
   },
   "cell_type": "code",
   "source": [
    "Graph = add_nodes_to_graph(G=Graph,\n",
    "                   path='/Users/user/PycharmProjects/urban-graph-forecasting/data/Дома_исходные.shp',\n",
    "                   threshold=100,\n",
    "                   id='HouseId', geometry='geometry', name='Name', type='school')"
   ],
   "id": "1ee9beaafeed1b8f",
   "outputs": [
    {
     "name": "stderr",
     "output_type": "stream",
     "text": [
      "/Users/user/numericalMethods/.venv/urban-graph-forecasting/lib/python3.11/site-packages/pyogrio/raw.py:198: RuntimeWarning: /Users/user/PycharmProjects/urban-graph-forecasting/data/Дома_исходные.shp contains polygon(s) with rings with invalid winding order. Autocorrecting them, but that shapefile should be corrected using ogr2ogr for example.\n",
      "  return ogr_read(\n"
     ]
    },
    {
     "name": "stdout",
     "output_type": "stream",
     "text": [
      "0\n",
      "1\n",
      "2\n",
      "3\n",
      "4\n"
     ]
    }
   ],
   "execution_count": null
  },
  {
   "metadata": {
    "ExecuteTime": {
     "end_time": "2024-11-09T06:30:05.761527Z",
     "start_time": "2024-11-09T06:30:05.347184Z"
    }
   },
   "cell_type": "code",
   "source": [
    "import pickle\n",
    "\n",
    "# Сохранение в Pickle\n",
    "with open(\"graph.pkl\", \"wb\") as f:\n",
    "    pickle.dump(Graph, f)"
   ],
   "id": "35d16a597886ad2c",
   "outputs": [],
   "execution_count": 6
  },
  {
   "metadata": {},
   "cell_type": "code",
   "outputs": [],
   "execution_count": null,
   "source": "",
   "id": "15e4dce9b8e41611"
  }
 ],
 "metadata": {
  "kernelspec": {
   "display_name": "Python 3",
   "language": "python",
   "name": "python3"
  },
  "language_info": {
   "codemirror_mode": {
    "name": "ipython",
    "version": 2
   },
   "file_extension": ".py",
   "mimetype": "text/x-python",
   "name": "python",
   "nbconvert_exporter": "python",
   "pygments_lexer": "ipython2",
   "version": "2.7.6"
  }
 },
 "nbformat": 4,
 "nbformat_minor": 5
}
