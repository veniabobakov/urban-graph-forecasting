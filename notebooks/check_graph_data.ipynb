{
 "cells": [
  {
   "metadata": {},
   "cell_type": "code",
   "source": [
    "import geopandas as gpd\n",
    "import pandas as pd\n",
    "import matplotlib.pyplot as plt\n",
    "import folium"
   ],
   "id": "db1bcd67c449749a",
   "outputs": [],
   "execution_count": null
  },
  {
   "metadata": {},
   "cell_type": "code",
   "source": "exits_gdf = gpd.read_file(\"/Users/user/PycharmProjects/urban-graph-forecasting/data/train_dataset_codd_train/Векторные данные/Выходы_метро.shp\")",
   "id": "d19456be33b425f6",
   "outputs": [],
   "execution_count": null
  },
  {
   "metadata": {},
   "cell_type": "code",
   "source": "exits_gdf",
   "id": "d0298c30d872a417",
   "outputs": [],
   "execution_count": null
  },
  {
   "metadata": {},
   "cell_type": "code",
   "source": "houses = gpd.read_file(\"/Users/user/PycharmProjects/urban-graph-forecasting/data/train_dataset_codd_train/Векторные данные/Дома_исходные.shp\")",
   "id": "31ba9795d47de51d",
   "outputs": [],
   "execution_count": null
  },
  {
   "metadata": {},
   "cell_type": "code",
   "source": "houses",
   "id": "3ea936417fa7484a",
   "outputs": [],
   "execution_count": null
  },
  {
   "metadata": {},
   "cell_type": "code",
   "source": "houses['Purpose'].unique()",
   "id": "9a878d0700e2b24",
   "outputs": [],
   "execution_count": null
  },
  {
   "metadata": {},
   "cell_type": "code",
   "source": "stops = gpd.read_file(\"/Users/user/PycharmProjects/urban-graph-forecasting/data/train_dataset_codd_train/Векторные данные/Остановки_ОТ.shp\")",
   "id": "8511261cec0d65c7",
   "outputs": [],
   "execution_count": null
  },
  {
   "metadata": {},
   "cell_type": "code",
   "source": "stops",
   "id": "25aa9a1b41749542",
   "outputs": [],
   "execution_count": null
  },
  {
   "metadata": {},
   "cell_type": "code",
   "source": "streets = gpd.read_file(\"/Users/user/PycharmProjects/urban-graph-forecasting/data/train_dataset_codd_train/Векторные данные/Streets_исходные.shp\")",
   "id": "614118c8cc85659e",
   "outputs": [],
   "execution_count": null
  },
  {
   "metadata": {},
   "cell_type": "code",
   "source": "streets",
   "id": "8c8eed3fb5fb4bf",
   "outputs": [],
   "execution_count": null
  },
  {
   "metadata": {},
   "cell_type": "code",
   "source": [
    "print(\"Current CRS:\", streets.crs)\n",
    "streets = streets.to_crs(epsg=4326)"
   ],
   "id": "6cfbf109b302c234",
   "outputs": [],
   "execution_count": null
  },
  {
   "metadata": {},
   "cell_type": "code",
   "source": "center = streets.geometry.centroid.y.mean(), streets.geometry.centroid.x.mean()",
   "id": "38378a60318a4708",
   "outputs": [],
   "execution_count": null
  },
  {
   "metadata": {},
   "cell_type": "code",
   "source": [
    "import networkx as nx\n",
    "\n",
    "# Создаем ориентированный граф\n",
    "G = nx.DiGraph()\n",
    "\n",
    "# Добавляем узлы и рёбра с пропускной способностью (capacity) и стоимостью (weight)\n",
    "G.add_edge('A', 'B', capacity=100, weight=1)\n",
    "G.add_edge('A', 'C', capacity=50, weight=2)\n",
    "G.add_edge('B', 'D', capacity=80, weight=1)\n",
    "G.add_edge('C', 'D', capacity=40, weight=3)\n",
    "G.add_edge('B', 'C', capacity=30, weight=4)\n",
    "G.add_edge('D', 'E', capacity=100, weight=1)\n",
    "\n",
    "# Устанавливаем требования по потоку для узлов\n",
    "# Баланс спроса и предложения: сумма всех demand должна равняться нулю\n",
    "G.nodes['A']['demand'] = -90  # Источник: генерирует 120 единиц потока\n",
    "G.nodes['E']['demand'] = 85  # Сток: потребляет 120 единиц потока\n",
    "G.nodes['D']['demand'] = 5  # Сток: потребляет 120 единиц потока\n",
    "\n",
    "\n",
    "try:\n",
    "    # Находим минимально затратное распределение потока\n",
    "    flow_dict = nx.min_cost_flow(G)\n",
    "    \n",
    "    # Вывод результата\n",
    "    print(\"Распределение потока с минимальной стоимостью:\")\n",
    "    for u, v_flows in flow_dict.items():\n",
    "        for v, flow in v_flows.items():\n",
    "            if flow > 0:  # Печатаем только рёбра с ненулевым потоком\n",
    "                print(f\"Из {u} в {v}: {flow} единиц потока\")\n",
    "except nx.NetworkXUnfeasible:\n",
    "    print(\"Ошибка: невозможно выполнить требования по потоку с текущими настройками графа.\")\n"
   ],
   "id": "3e4ada510f308f81",
   "outputs": [],
   "execution_count": null
  },
  {
   "metadata": {},
   "cell_type": "code",
   "source": [
    "# 7. Сохранение карты\n",
    "m.save(\"urban_graph_map.html\")\n",
    "\n",
    "# 8. Отображение карты (для использования в Jupyter)\n",
    "m"
   ],
   "id": "54f531da03245cd9",
   "outputs": [],
   "execution_count": null
  },
  {
   "metadata": {},
   "cell_type": "code",
   "source": "",
   "id": "de9e07eee78d922c",
   "outputs": [],
   "execution_count": null
  },
  {
   "metadata": {},
   "cell_type": "code",
   "source": "gpd.read_file('/Users/user/PycharmProjects/urban-graph-forecasting/data/train_dataset_codd_train/Векторные данные/Streets_исходные.shx')",
   "id": "d832b6d5ec424c58",
   "outputs": [],
   "execution_count": null
  },
  {
   "metadata": {},
   "cell_type": "code",
   "source": "",
   "id": "c2bb30abbb73c991",
   "outputs": [],
   "execution_count": null
  }
 ],
 "metadata": {
  "kernelspec": {
   "display_name": "Python 3",
   "language": "python",
   "name": "python3"
  },
  "language_info": {
   "codemirror_mode": {
    "name": "ipython",
    "version": 2
   },
   "file_extension": ".py",
   "mimetype": "text/x-python",
   "name": "python",
   "nbconvert_exporter": "python",
   "pygments_lexer": "ipython2",
   "version": "2.7.6"
  }
 },
 "nbformat": 4,
 "nbformat_minor": 5
}
